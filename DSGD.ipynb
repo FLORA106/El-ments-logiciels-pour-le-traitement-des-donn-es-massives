{
 "cells": [
  {
   "cell_type": "markdown",
   "metadata": {},
   "source": [
    "Dans ce notebook, nous allons appliquer l'algortihme de Descente du gradient stochastique distribué sur le jeu de données  \"movielens\" décrit ci-dessous, en utilisant la librairie pyspark pour le calcul distribué."
   ]
  },
  {
   "cell_type": "markdown",
   "metadata": {},
   "source": [
    "# Description des données :\n",
    "\n",
    "Toutes les notes d'évaluation du fichier \"u.dat\" sont sous la forme suivante :\n",
    "\n",
    "UserID, MovieID, Rating, Timestamp\n",
    "\n",
    "- UserIDs compris entre 1 et 943\n",
    "- MovieIDs est compris 1 et 1682\n",
    "- Ratings est compris entre 1 et 5 (1 pour un note faible et 5 pour une note élevée)\n",
    "- Timestamp "
   ]
  },
  {
   "cell_type": "markdown",
   "metadata": {},
   "source": [
    "## Import des librairies"
   ]
  },
  {
   "cell_type": "code",
   "execution_count": 1,
   "metadata": {
    "collapsed": true
   },
   "outputs": [],
   "source": [
    "# import des librairies\n",
    "import sys\n",
    "import numpy as np\n",
    "from scipy import sparse\n",
    "from pyspark import SparkContext, SparkConf\n",
    "import pandas as pd\n",
    "%matplotlib inline\n",
    "import matplotlib.pyplot as plt"
   ]
  },
  {
   "cell_type": "markdown",
   "metadata": {},
   "source": [
    "## Déclaration des variables et initialisatiion de SC "
   ]
  },
  {
   "cell_type": "code",
   "execution_count": 2,
   "metadata": {
    "collapsed": true
   },
   "outputs": [],
   "source": [
    "# Déclaration des variables\n",
    "inputV_filepath = \"/home/tux/Downloads/u.data\"  # Fichier d'import de la matrice V\n",
    "num_users = 0\n",
    "num_movies=0\n",
    "clock=0         \n",
    "clk=0           \n",
    "num_workers = 20     # nombre de threads\n",
    "\n",
    "# Initialisatiion de SC \n",
    "conf = SparkConf().setAppName('DSGD').setMaster('local[%d]' % num_workers)\n",
    "sc = SparkContext(conf=conf)"
   ]
  },
  {
   "cell_type": "markdown",
   "metadata": {},
   "source": [
    "## Création des matrices V, H, W"
   ]
  },
  {
   "cell_type": "code",
   "execution_count": 3,
   "metadata": {
    "collapsed": true
   },
   "outputs": [],
   "source": [
    "# Création de la matrice pour les films H et la matrice pour les utisateurs W\n",
    "def CreateMatrixHW(num_factors) :\n",
    "    \"\"\" Cette fonction parcourt le fichier d'input \"inputV_filepath\" afin de récuperer la valeur maximum \n",
    "    de l'identifiant utilisateur (max_user)  et la valeur maximum de l'identifiant des films (max_movie).\n",
    "    Puis, on crée deux matrices remplies aléatoirement :\n",
    "    W de dimension max_user x num_factors et H de dimension num_factors x max_movie.\n",
    "    \"\"\"\n",
    "    with open(inputV_filepath, 'r') as f_in :\n",
    "        max_user = 0   # on initialise max_user\n",
    "        max_movie = 0  # on initialise max_movie\n",
    "        for line in f_in :  # on parcourt le fichier input\n",
    "            line = line.rstrip()  # renvoie une copie de la chaine avec les caractères finaux supprimés\n",
    "            eachline = line.split(\",\")  # renvoie les termes de la chaines séparés par une virgule\n",
    "            for i in range(3) :\n",
    "                eachline[i] = int(eachline[i])\n",
    "            if max_user < eachline[0] :    # on recupère le userID le plus grand\n",
    "                max_user = eachline[0]\n",
    "            if max_movie < eachline[1] :   # on recupère le MovieID le plus grand\n",
    "                max_movie = eachline[1]\n",
    "    W = np.matrix(np.random.rand(max_user, num_factors)) # Matrice des utilisateurs\n",
    "    H = np.matrix(np.random.rand(num_factors,max_movie)) # Matrice des films\n",
    "    return W, H\n",
    "\n",
    "# Création de la matrice de notation V de dimension nombre d'utilisateurs x nombre de films \n",
    "def CreateMatrixV(num_users, num_movies) :\n",
    "    ''' cette fonction initialise une matrice de dimension num_users x num_movies, puis elle parcourt le fichier \n",
    "    d'input \"inputV_filepath\" afin de remplir la matrice V.\n",
    "    '''\n",
    "    with open(inputV_filepath, 'r') as f_in :\n",
    "        V = sparse.lil_matrix((num_users, num_movies))  # permet de construire une structure matrice\n",
    "        for line in f_in :      # on parcours le fichier input\n",
    "            line = line.rstrip()     # renvoie une copie de la chaine avec les caractères finaux supprimés\n",
    "            eachline = line.split(\",\")   # renvoie les termes de la chaines séparés par une virgule\n",
    "            for i in range(3) :\n",
    "                eachline[i] = int(eachline[i])     # on met UserID dans la colonne 1, MovieID dans la colonne 2 ...\n",
    "            V[eachline[0] -1, eachline[1] -1] = eachline[2]   # on remplit la matrice avec rating\n",
    "    return V"
   ]
  },
  {
   "cell_type": "markdown",
   "metadata": {},
   "source": [
    "## Calcul du gradient "
   ]
  },
  {
   "cell_type": "code",
   "execution_count": 4,
   "metadata": {
    "collapsed": true
   },
   "outputs": [],
   "source": [
    "# Calcul du gradient sur les \"num_workers\" blocks par \"num_workers\" threads en parallèle.\n",
    "def CalcGradient(block_tuple) :\n",
    "    ''' L'objectif de cette fonction est de compléter le block pour la matrice H et celui pour la matrice W.\n",
    "    On a les blocks pour la matrice H et W qui ont été remplis aléatoirement au préalable et le block pour \n",
    "    la matrice V qui contient les vraies valeurs des ratings. Nous allons calculer la différence entre le block de \n",
    "    la matrice V et le produit des blocks des matrices H et W, puis essayer de minimiser itérativement cette \n",
    "    différence. Il s'agit de la méthode de la descente en gradient.\n",
    "    '''\n",
    "    V_block = block_tuple[0]\n",
    "    W_block = block_tuple[1]\n",
    "    H_block = block_tuple[2]\n",
    "    c = 0\n",
    "    rows, cols = V_block.nonzero() # indices des éléments non nuls\n",
    "    for i, j in zip(rows, cols) :\n",
    "        tmp = V_block[i,j] - (W_block[i, :] * H_block[:, j])[0, 0]  # différence entre vraies valeurs et valeurs prédites\n",
    "        eta = pow(100 + clk + c, -beta_value)   # pas d'apprentissage\n",
    "        new_W_block = W_block[i, :] - eta * \\\n",
    "                    (-2 * tmp * H_block[:, j].transpose() \\\n",
    "                    + 2 * lambda_value * W_block[i, :] / V_block.tocsr()[i, :].nnz) # mise à jour de W\n",
    "        H_block[:, j] = H_block[:, j] - eta * \\\n",
    "                    (-2 * tmp * W_block[i, :].transpose() \\\n",
    "                    + 2 * lambda_value * H_block[:, j] / V_block.tocsc()[:, j].nnz) # mise à jour de H\n",
    "        W_block[i, :] = new_W_block.copy()\n",
    "        c += 1       # permet de diminuer le pas au sein de la boucle for\n",
    "    clock.add(len(rows))\n",
    "    return (W_block, H_block)"
   ]
  },
  {
   "cell_type": "markdown",
   "metadata": {},
   "source": [
    "## Incrémentation des règles"
   ]
  },
  {
   "cell_type": "code",
   "execution_count": 5,
   "metadata": {
    "collapsed": true
   },
   "outputs": [],
   "source": [
    "# Passage à la regle suivante\n",
    "def NextStrata(strata) :\n",
    "    strata[1] = (strata[1] + 1) % num_workers\n",
    "    return strata"
   ]
  },
  {
   "cell_type": "markdown",
   "metadata": {},
   "source": [
    "## Indices des lignes et des colonnes"
   ]
  },
  {
   "cell_type": "code",
   "execution_count": 6,
   "metadata": {
    "collapsed": true
   },
   "outputs": [],
   "source": [
    "# Récupération des numéros de lignes et des colonnes pour chaque block\n",
    "def GetRowCol(strata):\n",
    "    rows = [i for i in range(strata[0], num_users, num_workers)]\n",
    "    cols = [j for j in range(strata[1], num_movies, num_workers)]\n",
    "    return (rows, cols)"
   ]
  },
  {
   "cell_type": "markdown",
   "metadata": {},
   "source": [
    "## Calcul du MSE"
   ]
  },
  {
   "cell_type": "code",
   "execution_count": 7,
   "metadata": {
    "collapsed": true
   },
   "outputs": [],
   "source": [
    "# Calcul du MSE\n",
    "def CalceError(V, W, H):\n",
    "    \"\"\" On calcule l'erreur quadratique moyenne entre les valeurs de la matrice V et le produit de la matrice W*H\n",
    "    \"\"\"\n",
    "    error = 0.0\n",
    "    V_err= W * H\n",
    "    rows, cols = V.nonzero()\n",
    "    for i, j in zip(rows,cols):\n",
    "        tmp = V[i,j] - V_err[i,j]\n",
    "        error += tmp * tmp\n",
    "    error /= len(rows)\n",
    "    return error"
   ]
  },
  {
   "cell_type": "markdown",
   "metadata": {},
   "source": [
    "## Recherche du nombre d'itérations optimal"
   ]
  },
  {
   "cell_type": "code",
   "execution_count": 8,
   "metadata": {
    "collapsed": true
   },
   "outputs": [],
   "source": [
    "# fonction qui permet de déterminer le nombre d'iterations optimal\n",
    "def test_iter_opt(num_factors=20, num_workers=10, num_iterations=50, beta_value=0.5, lambda_value=0.0002):\n",
    "\n",
    "    # Variables globales\n",
    "    global clock\n",
    "    global num_users\n",
    "    global num_movies\n",
    "    global clk\n",
    "    \n",
    "    #Création de W, H et V\n",
    "    W, H = CreateMatrixHW(num_factors)\n",
    "    num_users = W.shape[0]\n",
    "    num_movies = H.shape[1]\n",
    "    V = CreateMatrixV(num_users,num_movies)\n",
    "    MSE= np.empty((0))\n",
    "\n",
    "    # Initialisation de la règle\n",
    "    init_strata = [[i, v] for i, v in enumerate(np.random.permutation(num_workers))]\n",
    "    S = sc.parallelize(init_strata)   # parallèlisation des blocks\n",
    "    \n",
    "    # Initialisation de la variable clock\n",
    "    clock=sc.accumulator(0)\n",
    "\n",
    "    # Exécution du SGD en parallèle\n",
    "    for i in range(num_iterations) :\n",
    "        \n",
    "        # Lignes et colones des blocs en parallèle\n",
    "        split = S.map(GetRowCol).collect()\n",
    "        \n",
    "        # Recuperation des blocs \n",
    "        matrices = []\n",
    "        for row, col in split :\n",
    "            V_block = V.tocsr()[row, ].tocsc()[:, col] \n",
    "            W_block = W[row, ].copy()\n",
    "            H_block = H[:, col].copy()\n",
    "            matrices.append((V_block, W_block, H_block))\n",
    "            \n",
    "        # Récupération de la valeur de la variable clock\n",
    "        clk = clock.value\n",
    "        # Calcul du gradient en parallèle\n",
    "        matrices = sc.parallelize(matrices).map(CalcGradient).collect()\n",
    "        # Mise à jour de W et H\n",
    "        for (row, col), (new_W, new_H) in zip(split, matrices) :\n",
    "            W[row, ] = new_W\n",
    "            H[:, col] = new_H\n",
    "        MSE= np.append(MSE,CalceError(V, W, H))\n",
    "        if (i>=1)&((MSE[i-1] - MSE[i])< 0.001) : # Si la différence entre le MSE actuel et le précedent est plus petite que 0.02, on arrete les iterrations            \n",
    "            break        \n",
    "        # Règle suivante\n",
    "        S = S.map(NextStrata)\n",
    "        # Affichage des paramètres\n",
    "    print('num_factors  =', num_factors)\n",
    "    print('num_workers  =', num_workers)\n",
    "    print('num_iterations  =', num_iterations)\n",
    "    print('beta_value  =', beta_value)\n",
    "    print('lambda_value  =', lambda_value)\n",
    "    print ('MSE: %f\\n' % CalceError(V, W, H))\n",
    "\n",
    "    return MSE"
   ]
  },
  {
   "cell_type": "markdown",
   "metadata": {},
   "source": [
    "## Recherche de paramètres optimaux"
   ]
  },
  {
   "cell_type": "code",
   "execution_count": 9,
   "metadata": {
    "collapsed": true
   },
   "outputs": [],
   "source": [
    "# fonction qui permet de déterminer les paramètres optimaux (nombre de facteurs, lambda et béta)\n",
    "def test_param_opt(num_factors, num_workers, num_iterations, beta_value, lambda_value):\n",
    "    \n",
    "    global clock\n",
    "    global num_users\n",
    "    global num_movies\n",
    "    global clk\n",
    "    # Création de W, H, et V\n",
    "    W, H = CreateMatrixHW(num_factors)\n",
    "    num_users = W.shape[0]\n",
    "    num_movies = H.shape[1]\n",
    "    V = CreateMatrixV(num_users,num_movies)\n",
    "\n",
    "    #Initialisation de la règle\n",
    "    init_strata = [[i, v] for i, v in enumerate(np.random.permutation(num_workers))]\n",
    "    S = sc.parallelize(init_strata)  # parallèlisation des blocks\n",
    "\n",
    "    # Initialisation de la variable clock\n",
    "    clock = sc.accumulator(0)\n",
    "\n",
    "    # Exécution du SGD en parallèle\n",
    "    for i in range(num_iterations) :\n",
    "        \n",
    "        # Lignes et colones des blocs en parallèle\n",
    "        split = S.map(GetRowCol).collect()\n",
    "        \n",
    "        # Recuperation des blocs \n",
    "        matrices = []\n",
    "        for row, col in split :\n",
    "            V_block = V.tocsr()[row, ].tocsc()[:, col]\n",
    "            W_block = W[row, ].copy()\n",
    "            H_block = H[:, col].copy()\n",
    "            matrices.append((V_block, W_block, H_block))\n",
    "            \n",
    "        # Récupération de la valeur de la variable clock\n",
    "        clk = clock.value\n",
    "        # Calcul du gradient en parallèle\n",
    "        matrices = sc.parallelize(matrices).map(CalcGradient).collect()\n",
    "        # Mise à jour de W et H\n",
    "        for (row, col), (new_W, new_H) in zip(split, matrices) :\n",
    "            W[row, ] = new_W\n",
    "            H[:, col] = new_H\n",
    "        # Règle suivante\n",
    "        S = S.map(NextStrata)\n",
    "\n",
    "    # Affichage des paramètres\n",
    "    print('num_factors  =', num_factors)\n",
    "    print('num_workers  =', num_workers)\n",
    "    print('num_iterations  =', num_iterations)\n",
    "    print('beta_value  =', beta_value)\n",
    "    print('lambda_value  =', lambda_value)\n",
    "    print ('MSE: %f\\n' % CalceError(V, W, H))\n",
    "    \n",
    "    return CalceError(V, W, H)"
   ]
  },
  {
   "cell_type": "code",
   "execution_count": 10,
   "metadata": {},
   "outputs": [
    {
     "name": "stdout",
     "output_type": "stream",
     "text": [
      "num_factors  = 20\n",
      "num_workers  = 20\n",
      "num_iterations  = 50\n",
      "beta_value  = 0.5\n",
      "lambda_value  = 0.0002\n",
      "MSE: 0.880292\n",
      "\n",
      "le nombre d'iterations qui minimise l'erreur 41\n"
     ]
    },
    {
     "data": {
      "image/png": "[encoded data removed]",
      "text/plain": [
       "<matplotlib.figure.Figure at 0x7f1547baca58>"
      ]
     },
     "metadata": {},
     "output_type": "display_data"
    }
   ],
   "source": [
    "#Recherche du nombre optimal d'iterations\n",
    "num_factors=20\n",
    "num_workers=20\n",
    "num_iterations=50\n",
    "beta_value=0.5\n",
    "lambda_value=0.0002\n",
    "MSE=test_iter_opt(num_factors, num_workers, num_iterations, beta_value, lambda_value)\n",
    "num_iter_opt= int(np.where(MSE==min(MSE))[0]) + 1\n",
    "print(\"le nombre d'iterations qui minimise l'erreur\",num_iter_opt)\n",
    "\n",
    "#graphique recherche du nombre optimal de facteurs\n",
    "plt.plot(range(1,len(MSE)+1),MSE)\n",
    "plt.xlabel('NB')\n",
    "plt.ylabel('MSE')\n",
    "plt.title('Nombre optimal d iterrations')\n",
    "plt.show()"
   ]
  },
  {
   "cell_type": "code",
   "execution_count": 20,
   "metadata": {
    "scrolled": true
   },
   "outputs": [
    {
     "name": "stdout",
     "output_type": "stream",
     "text": [
      "10\n",
      "num_factors  = 10\n",
      "num_workers  = 20\n",
      "num_iterations  = 41\n",
      "beta_value  = 0.5\n",
      "lambda_value  = 0.1\n",
      "MSE: 0.923162\n",
      "\n",
      "15\n",
      "num_factors  = 15\n",
      "num_workers  = 20\n",
      "num_iterations  = 41\n",
      "beta_value  = 0.5\n",
      "lambda_value  = 0.1\n",
      "MSE: 0.936438\n",
      "\n",
      "20\n",
      "num_factors  = 20\n",
      "num_workers  = 20\n",
      "num_iterations  = 41\n",
      "beta_value  = 0.5\n",
      "lambda_value  = 0.1\n",
      "MSE: 0.993710\n",
      "\n",
      "25\n",
      "num_factors  = 25\n",
      "num_workers  = 20\n",
      "num_iterations  = 41\n",
      "beta_value  = 0.5\n",
      "lambda_value  = 0.1\n",
      "MSE: 1.088701\n",
      "\n"
     ]
    },
    {
     "data": {
      "image/png": "[encoded data removed]",
      "text/plain": [
       "<matplotlib.figure.Figure at 0x7f1546e29a58>"
      ]
     },
     "metadata": {},
     "output_type": "display_data"
    },
    {
     "name": "stdout",
     "output_type": "stream",
     "text": [
      "Nb factors qui minimise l'erreur 10\n"
     ]
    }
   ],
   "source": [
    "#Recherche du nombre optimal de facteurs\n",
    "list_factors =range(10,30, 5)#valeurs pour recherche nb factors\n",
    "e = np.empty((0))\n",
    "for num_factors in list_factors:\n",
    "    print(num_factors)\n",
    "    err = test_param_opt(num_factors, 20, num_iter_opt,0.5,0.1)\n",
    "    e =np.append(e, err)\n",
    "ind = np.argmin(e) #indice MSE plus petit  \n",
    "\n",
    "#graphique du recherche nombre optimal de facteurs\n",
    "plt.plot(list_factors, e)\n",
    "plt.ylabel('MSE')\n",
    "plt.xlabel('Nombre de facteurs')\n",
    "plt.title('Nombre optimal de facteurs')\n",
    "plt.show()\n",
    "\n",
    "best_factor = list_factors[ind]#nombre de facteurs correspondant au MSE plus petit\n",
    "print(\"Nb factors qui minimise l'erreur\", best_factor)"
   ]
  },
  {
   "cell_type": "code",
   "execution_count": 22,
   "metadata": {
    "scrolled": true
   },
   "outputs": [
    {
     "name": "stdout",
     "output_type": "stream",
     "text": [
      "0.5\n",
      "num_factors  = 10\n",
      "num_workers  = 20\n",
      "num_iterations  = 41\n",
      "beta_value  = 0.5\n",
      "lambda_value  = 0.1\n",
      "MSE: 0.922434\n",
      "\n",
      "0.6\n",
      "num_factors  = 10\n",
      "num_workers  = 20\n",
      "num_iterations  = 41\n",
      "beta_value  = 0.6\n",
      "lambda_value  = 0.1\n",
      "MSE: 0.921456\n",
      "\n",
      "0.7\n",
      "num_factors  = 10\n",
      "num_workers  = 20\n",
      "num_iterations  = 41\n",
      "beta_value  = 0.7\n",
      "lambda_value  = 0.1\n",
      "MSE: 0.926705\n",
      "\n",
      "0.8\n",
      "num_factors  = 10\n",
      "num_workers  = 20\n",
      "num_iterations  = 41\n",
      "beta_value  = 0.8\n",
      "lambda_value  = 0.1\n",
      "MSE: 0.924904\n",
      "\n",
      "0.9\n",
      "num_factors  = 10\n",
      "num_workers  = 20\n",
      "num_iterations  = 41\n",
      "beta_value  = 0.9\n",
      "lambda_value  = 0.1\n",
      "MSE: 0.927010\n",
      "\n"
     ]
    },
    {
     "data": {
      "image/png": "[encoded data removed]",
      "text/plain": [
       "<matplotlib.figure.Figure at 0x7f154735e978>"
      ]
     },
     "metadata": {},
     "output_type": "display_data"
    },
    {
     "name": "stdout",
     "output_type": "stream",
     "text": [
      "Valeur beta qui minimise l'erreur 0.6\n"
     ]
    }
   ],
   "source": [
    "#Recherche de la valeur optimale de beta\n",
    "list_beta = [0.5,0.6,0.7,0.8,0.9]\n",
    "e = np.empty((0))\n",
    "for b in list_beta:\n",
    "    print(b)\n",
    "    err = test_param_opt(best_factor,num_workers,num_iter_opt, b, 0.1)\n",
    "    e = np.append(e, err)\n",
    "ind = np.argmin(e) #indice MSE plus petit   \n",
    "\n",
    "#graphique recherche valeur optimale de beta\n",
    "plt.plot(list_beta, e)\n",
    "plt.ylabel('MSE')\n",
    "plt.xlabel('Valeur beta')\n",
    "plt.title('Valeur optimale de beta')\n",
    "plt.show()\n",
    " \n",
    "best_beta = list_beta[ind]#valeur beta correspondant au MSE plus petit   \n",
    "print(\"Valeur beta qui minimise l'erreur\", best_beta)"
   ]
  },
  {
   "cell_type": "code",
   "execution_count": 24,
   "metadata": {},
   "outputs": [
    {
     "name": "stdout",
     "output_type": "stream",
     "text": [
      "0.001\n",
      "num_factors  = 10\n",
      "num_workers  = 20\n",
      "num_iterations  = 41\n",
      "beta_value  = 0.6\n",
      "lambda_value  = 0.001\n",
      "MSE: 0.921719\n",
      "\n",
      "0.01\n",
      "num_factors  = 10\n",
      "num_workers  = 20\n",
      "num_iterations  = 41\n",
      "beta_value  = 0.6\n",
      "lambda_value  = 0.01\n",
      "MSE: 0.932376\n",
      "\n",
      "0.1\n",
      "num_factors  = 10\n",
      "num_workers  = 20\n",
      "num_iterations  = 41\n",
      "beta_value  = 0.6\n",
      "lambda_value  = 0.1\n",
      "MSE: 0.918878\n",
      "\n",
      "0.2\n",
      "num_factors  = 10\n",
      "num_workers  = 20\n",
      "num_iterations  = 41\n",
      "beta_value  = 0.6\n",
      "lambda_value  = 0.2\n",
      "MSE: 0.926314\n",
      "\n",
      "0.3\n",
      "num_factors  = 10\n",
      "num_workers  = 20\n",
      "num_iterations  = 41\n",
      "beta_value  = 0.6\n",
      "lambda_value  = 0.3\n",
      "MSE: 0.922982\n",
      "\n"
     ]
    },
    {
     "data": {
      "image/png": "[encoded data removed]",
      "text/plain": [
       "<matplotlib.figure.Figure at 0x7f1557fe9978>"
      ]
     },
     "metadata": {},
     "output_type": "display_data"
    },
    {
     "name": "stdout",
     "output_type": "stream",
     "text": [
      "Valeur lambda qui minimise l'erreur 0.1\n"
     ]
    }
   ],
   "source": [
    "list_lambda =[0.001,0.01,0.1,0.2,0.3]\n",
    "e = np.empty((0))\n",
    "for l in list_lambda:\n",
    "    print(l)\n",
    "    err = test_param_opt(best_factor, num_workers, num_iter_opt, best_beta, l)\n",
    "    e = np.append(e, err)\n",
    "ind = np.argmin(e) #indice MSE plus petit\n",
    "\n",
    "#graphique recherche valeur optimale de lambda\n",
    "plt.plot(list_lambda, e)\n",
    "plt.ylabel('MSE')\n",
    "plt.xlabel('Valeur lambda')\n",
    "plt.title('Valeur optimale de lambda')\n",
    "plt.show()\n",
    "best_lambda = list_lambda[ind]#valeur lambda correspondant au MSE plus petit\n",
    "print(\"Valeur lambda qui minimise l'erreur\", best_lambda)"
   ]
  },
  {
   "cell_type": "markdown",
   "metadata": {},
   "source": [
    "## DSGD avec les paramètres optimaux"
   ]
  },
  {
   "cell_type": "code",
   "execution_count": 25,
   "metadata": {},
   "outputs": [
    {
     "name": "stdout",
     "output_type": "stream",
     "text": [
      "MSE: 0.921665\n",
      "\n"
     ]
    }
   ],
   "source": [
    "# Parametres optimaux\n",
    "num_factors = best_factor   \n",
    "num_workers = 20\n",
    "num_iterations = num_iter_opt  \n",
    "lambda_value = best_lambda   \n",
    "beta_value = best_beta  \n",
    "\n",
    "# Création de W, H, et V\n",
    "W, H = CreateMatrixHW(num_factors)\n",
    "num_users = W.shape[0]\n",
    "num_movies = H.shape[1]\n",
    "V = CreateMatrixV(num_users,num_movies)\n",
    "\n",
    "# Initialisation de la variable clock\n",
    "init_strata = [[i, v] for i, v in enumerate(np.random.permutation(num_workers))]\n",
    "S = sc.parallelize(init_strata)    # parallèlisation des blocks\n",
    "\n",
    "# Initialisation de la variable clock  \n",
    "clock = sc.accumulator(0)\n",
    "\n",
    "# Exécution du SGD en parallèle\n",
    "for i in range(num_iterations) :\n",
    "    \n",
    "    # Lignes et colones des blocs en parallèle\n",
    "    split = S.map(GetRowCol).collect()\n",
    "    \n",
    "    # Recuperation des blocs\n",
    "    matrices = []\n",
    "    for row, col in split :\n",
    "        V_block = V.tocsr()[row, :].tocsc()[:, col]\n",
    "        W_block = W[row, :].copy()\n",
    "        H_block = H[:, col].copy()\n",
    "        matrices.append((V_block, W_block, H_block))\n",
    "        \n",
    "    #  Récupération de la valeur de la variable clock\n",
    "    clk = clock.value\n",
    "    \n",
    "    # Calcul du gradient en parallèle\n",
    "    matrices = sc.parallelize(matrices).map(CalcGradient).collect()\n",
    "    \n",
    "    #  Mise à jour de W et H\n",
    "    for (row, col), (new_W, new_H) in zip(split, matrices) :\n",
    "        W[row, :] = new_W\n",
    "        H[:, col] = new_H\n",
    "    # Règle suivante\n",
    "    S = S.map(NextStrata)\n",
    "\n",
    "\n",
    "# Calcul du MSE\n",
    "print ('MSE: %f\\n' % CalceError(V, W, H))"
   ]
  },
  {
   "cell_type": "markdown",
   "metadata": {},
   "source": [
    "## Valeurs prédites"
   ]
  },
  {
   "cell_type": "code",
   "execution_count": 26,
   "metadata": {},
   "outputs": [
    {
     "data": {
      "text/html": [
       "<div>\n",
       "<style>\n",
       "    .dataframe thead tr:only-child th {\n",
       "        text-align: right;\n",
       "    }\n",
       "\n",
       "    .dataframe thead th {\n",
       "        text-align: left;\n",
       "    }\n",
       "\n",
       "    .dataframe tbody tr th {\n",
       "        vertical-align: top;\n",
       "    }\n",
       "</style>\n",
       "<table border=\"1\" class=\"dataframe\">\n",
       "  <thead>\n",
       "    <tr style=\"text-align: right;\">\n",
       "      <th></th>\n",
       "      <th>ID_users</th>\n",
       "      <th>ID_movies</th>\n",
       "      <th>ratings</th>\n",
       "    </tr>\n",
       "  </thead>\n",
       "  <tbody>\n",
       "    <tr>\n",
       "      <th>0</th>\n",
       "      <td>1</td>\n",
       "      <td>1</td>\n",
       "      <td>4.126864</td>\n",
       "    </tr>\n",
       "    <tr>\n",
       "      <th>1</th>\n",
       "      <td>1</td>\n",
       "      <td>2</td>\n",
       "      <td>3.289309</td>\n",
       "    </tr>\n",
       "    <tr>\n",
       "      <th>2</th>\n",
       "      <td>1</td>\n",
       "      <td>3</td>\n",
       "      <td>2.877197</td>\n",
       "    </tr>\n",
       "    <tr>\n",
       "      <th>3</th>\n",
       "      <td>1</td>\n",
       "      <td>4</td>\n",
       "      <td>3.848120</td>\n",
       "    </tr>\n",
       "    <tr>\n",
       "      <th>4</th>\n",
       "      <td>1</td>\n",
       "      <td>5</td>\n",
       "      <td>3.476026</td>\n",
       "    </tr>\n",
       "  </tbody>\n",
       "</table>\n",
       "</div>"
      ],
      "text/plain": [
       "   ID_users  ID_movies   ratings\n",
       "0         1          1  4.126864\n",
       "1         1          2  3.289309\n",
       "2         1          3  2.877197\n",
       "3         1          4  3.848120\n",
       "4         1          5  3.476026"
      ]
     },
     "execution_count": 26,
     "metadata": {},
     "output_type": "execute_result"
    }
   ],
   "source": [
    "# Calcul de la nouvelle matrice V\n",
    "new_V=sparse.lil_matrix(W*H)\n",
    "# Représentation des coordonnées de new_V\n",
    "coo = new_V.tocoo(copy=False)\n",
    "# Création du dataframe\n",
    "df=pd.DataFrame({'ID_users': coo.row, 'ID_movies': coo.col, 'ratings': coo.data})[['ID_users', 'ID_movies', 'ratings']].reset_index(drop=True)\n",
    "df['ID_users']=df['ID_users']+1\n",
    "df['ID_movies']=df['ID_movies']+1\n",
    "df.head()"
   ]
  },
  {
   "cell_type": "code",
   "execution_count": 27,
   "metadata": {},
   "outputs": [
    {
     "data": {
      "text/html": [
       "<div>\n",
       "<style>\n",
       "    .dataframe thead tr:only-child th {\n",
       "        text-align: right;\n",
       "    }\n",
       "\n",
       "    .dataframe thead th {\n",
       "        text-align: left;\n",
       "    }\n",
       "\n",
       "    .dataframe tbody tr th {\n",
       "        vertical-align: top;\n",
       "    }\n",
       "</style>\n",
       "<table border=\"1\" class=\"dataframe\">\n",
       "  <thead>\n",
       "    <tr style=\"text-align: right;\">\n",
       "      <th></th>\n",
       "      <th>ID_users</th>\n",
       "      <th>ID_movies</th>\n",
       "      <th>ratings</th>\n",
       "    </tr>\n",
       "  </thead>\n",
       "  <tbody>\n",
       "    <tr>\n",
       "      <th>0</th>\n",
       "      <td>1</td>\n",
       "      <td>1</td>\n",
       "      <td>4</td>\n",
       "    </tr>\n",
       "    <tr>\n",
       "      <th>1</th>\n",
       "      <td>1</td>\n",
       "      <td>2</td>\n",
       "      <td>3</td>\n",
       "    </tr>\n",
       "    <tr>\n",
       "      <th>2</th>\n",
       "      <td>1</td>\n",
       "      <td>3</td>\n",
       "      <td>2</td>\n",
       "    </tr>\n",
       "    <tr>\n",
       "      <th>3</th>\n",
       "      <td>1</td>\n",
       "      <td>4</td>\n",
       "      <td>3</td>\n",
       "    </tr>\n",
       "    <tr>\n",
       "      <th>4</th>\n",
       "      <td>1</td>\n",
       "      <td>5</td>\n",
       "      <td>3</td>\n",
       "    </tr>\n",
       "  </tbody>\n",
       "</table>\n",
       "</div>"
      ],
      "text/plain": [
       "   ID_users  ID_movies  ratings\n",
       "0         1          1        4\n",
       "1         1          2        3\n",
       "2         1          3        2\n",
       "3         1          4        3\n",
       "4         1          5        3"
      ]
     },
     "execution_count": 27,
     "metadata": {},
     "output_type": "execute_result"
    }
   ],
   "source": [
    "df['ratings'] = df.ratings.astype(int)\n",
    "#On se debarasse des valeurs aberrantes\n",
    "a=[-1,-2,0]\n",
    "b=[6,7,8,9,10]\n",
    "for i in a:\n",
    "    df.ratings[df.ratings==i]=1\n",
    "for i in b:\n",
    "    df.ratings[df.ratings==i]=5\n",
    "df.head()"
   ]
  },
  {
   "cell_type": "code",
   "execution_count": 29,
   "metadata": {},
   "outputs": [
    {
     "data": {
      "text/plain": [
       "<matplotlib.axes._subplots.AxesSubplot at 0x7f1546ec6dd8>"
      ]
     },
     "execution_count": 29,
     "metadata": {},
     "output_type": "execute_result"
    },
    {
     "data": {
      "image/png": "[encoded data removed]",
      "text/plain": [
       "<matplotlib.figure.Figure at 0x7f1546e14320>"
      ]
     },
     "metadata": {},
     "output_type": "display_data"
    }
   ],
   "source": [
    "# Répartition des ratings prédites\n",
    "df.groupby('ratings')['ID_users'].count()\n",
    "df.groupby('ratings')['ID_users'].count().plot(kind='bar',title=\"Repartition par note d'evaluation\")"
   ]
  },
  {
   "cell_type": "code",
   "execution_count": 30,
   "metadata": {},
   "outputs": [
    {
     "data": {
      "text/plain": [
       "ratings\n",
       "1     85695\n",
       "2    635955\n",
       "3    715319\n",
       "4    144222\n",
       "5      4935\n",
       "Name: ID_users, dtype: int64"
      ]
     },
     "execution_count": 30,
     "metadata": {},
     "output_type": "execute_result"
    }
   ],
   "source": [
    "df.groupby('ratings')['ID_users'].count()"
   ]
  }
 ],
 "metadata": {
  "kernelspec": {
   "display_name": "Python 3",
   "language": "python",
   "name": "python3"
  },
  "language_info": {
   "codemirror_mode": {
    "name": "ipython",
    "version": 3
   },
   "file_extension": ".py",
   "mimetype": "text/x-python",
   "name": "python",
   "nbconvert_exporter": "python",
   "pygments_lexer": "ipython3",
   "version": "3.6.3"
  }
 },
 "nbformat": 4,
 "nbformat_minor": 2
}
